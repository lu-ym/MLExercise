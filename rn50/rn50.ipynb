{
 "cells": [
  {
   "cell_type": "markdown",
   "metadata": {},
   "source": [
    "[ResNet50识别Mnist数据集(Pytorch实战)](https://blog.csdn.net/weixin_42888638/article/details/122021648)"
   ]
  },
  {
   "cell_type": "code",
   "execution_count": 1,
   "metadata": {},
   "outputs": [
    {
     "data": {
      "text/plain": [
       "'1.12.1'"
      ]
     },
     "execution_count": 1,
     "metadata": {},
     "output_type": "execute_result"
    }
   ],
   "source": [
    "import torch\n",
    "torch.__version__"
   ]
  },
  {
   "cell_type": "code",
   "execution_count": 2,
   "metadata": {},
   "outputs": [],
   "source": [
    "import os\n",
    "import time\n",
    "\n",
    "import numpy as np\n",
    "import pandas as pd\n",
    "\n",
    "import torch\n",
    "import torch.nn as nn\n",
    "import torch.nn.functional as F\n",
    "\n",
    "from torch.utils.data import Dataset\n",
    "from torch.utils.data import DataLoader\n",
    "\n",
    "from torchvision import datasets\n",
    "from torchvision import transforms\n",
    "\n",
    "import matplotlib.pyplot as plt\n",
    "from PIL import Image"
   ]
  },
  {
   "cell_type": "code",
   "execution_count": 3,
   "metadata": {},
   "outputs": [
    {
     "name": "stdout",
     "output_type": "stream",
     "text": [
      "cuda\n"
     ]
    }
   ],
   "source": [
    "DEVICE = torch.device(\"cuda\" if torch.cuda.is_available() else \"cpu\")\n",
    "print(DEVICE)"
   ]
  },
  {
   "cell_type": "code",
   "execution_count": 4,
   "metadata": {},
   "outputs": [
    {
     "name": "stdout",
     "output_type": "stream",
     "text": [
      "Image batch dimensions: torch.Size([64, 1, 28, 28])\n",
      "Image label dimensions: torch.Size([64])\n"
     ]
    }
   ],
   "source": [
    "# create dataset\n",
    "BATCH_SIZE = 64\n",
    "train_dataset = datasets.MNIST(root='data', \n",
    "                               train=True, \n",
    "                               transform=transforms.ToTensor(),\n",
    "                               download=True)\n",
    "\n",
    "test_dataset = datasets.MNIST(root='data', \n",
    "                              train=False, \n",
    "                              transform=transforms.ToTensor())\n",
    "\n",
    "\n",
    "train_loader = DataLoader(dataset=train_dataset, \n",
    "                          batch_size=BATCH_SIZE, \n",
    "                          shuffle=True)\n",
    "\n",
    "test_loader = DataLoader(dataset=test_dataset, \n",
    "                         batch_size=BATCH_SIZE, \n",
    "                         shuffle=False)\n",
    "\n",
    "# Checking the dataset\n",
    "for images, labels in train_loader:  \n",
    "    print('Image batch dimensions:', images.shape)\n",
    "    print('Image label dimensions:', labels.shape)\n",
    "    break"
   ]
  },
  {
   "cell_type": "code",
   "execution_count": 5,
   "metadata": {},
   "outputs": [],
   "source": [
    "def conv3x3(in_planes, out_planes, stride=1):\n",
    "    \"\"\"3x3 convolution with padding\"\"\"\n",
    "    return nn.Conv2d(in_planes, out_planes, kernel_size=3, stride=stride,\n",
    "                     padding=1, bias=False)\n",
    "\n",
    "\n",
    "class Bottleneck(nn.Module):\n",
    "    expansion = 4\n",
    "\n",
    "    def __init__(self, inplanes, planes, stride=1, downsample=None):\n",
    "        super(Bottleneck, self).__init__()\n",
    "        self.conv1 = nn.Conv2d(inplanes, planes, kernel_size=1, bias=False)\n",
    "        self.bn1 = nn.BatchNorm2d(planes)\n",
    "        self.conv2 = nn.Conv2d(planes, planes, kernel_size=3, stride=stride,\n",
    "                               padding=1, bias=False)\n",
    "        self.bn2 = nn.BatchNorm2d(planes)\n",
    "        self.conv3 = nn.Conv2d(planes, planes * 4, kernel_size=1, bias=False)\n",
    "        self.bn3 = nn.BatchNorm2d(planes * 4)\n",
    "        self.relu = nn.ReLU(inplace=True)\n",
    "        self.downsample = downsample\n",
    "        self.stride = stride\n",
    "\n",
    "    def forward(self, x):\n",
    "        residual = x\n",
    "\n",
    "        out = self.conv1(x)\n",
    "        out = self.bn1(out)\n",
    "        out = self.relu(out)\n",
    "\n",
    "        out = self.conv2(out)\n",
    "        out = self.bn2(out)\n",
    "        out = self.relu(out)\n",
    "\n",
    "        out = self.conv3(out)\n",
    "        out = self.bn3(out)\n",
    "\n",
    "        if self.downsample is not None:\n",
    "            residual = self.downsample(x)\n",
    "\n",
    "        out += residual\n",
    "        out = self.relu(out)\n",
    "\n",
    "        return out\n",
    "\n",
    "class ResNet(nn.Module):\n",
    "\n",
    "    def __init__(self, block, layers, num_classes, grayscale):\n",
    "        self.inplanes = 64\n",
    "        if grayscale:\n",
    "            in_dim = 1\n",
    "        else:\n",
    "            in_dim = 3\n",
    "        super(ResNet, self).__init__()\n",
    "        self.conv1 = nn.Conv2d(in_dim, 64, kernel_size=7, stride=2, padding=3,\n",
    "                               bias=False)\n",
    "        self.bn1 = nn.BatchNorm2d(64)\n",
    "        self.relu = nn.ReLU(inplace=True)\n",
    "        self.maxpool = nn.MaxPool2d(kernel_size=3, stride=2, padding=1)\n",
    "        self.layer1 = self._make_layer(block, 64, layers[0])\n",
    "        self.layer2 = self._make_layer(block, 128, layers[1], stride=2)\n",
    "        self.layer3 = self._make_layer(block, 256, layers[2], stride=2)\n",
    "        self.layer4 = self._make_layer(block, 512, layers[3], stride=2)\n",
    "        self.avgpool = nn.AvgPool2d(7, stride=1)\n",
    "        self.fc = nn.Linear(512 * block.expansion, num_classes)\n",
    "\n",
    "        for m in self.modules():\n",
    "            if isinstance(m, nn.Conv2d):\n",
    "                n = m.kernel_size[0] * m.kernel_size[1] * m.out_channels\n",
    "                m.weight.data.normal_(0, (2. / n)**.5)\n",
    "            elif isinstance(m, nn.BatchNorm2d):\n",
    "                m.weight.data.fill_(1)\n",
    "                m.bias.data.zero_()\n",
    "\n",
    "    def _make_layer(self, block, planes, blocks, stride=1):\n",
    "        downsample = None\n",
    "        if stride != 1 or self.inplanes != planes * block.expansion:\n",
    "            downsample = nn.Sequential(\n",
    "                nn.Conv2d(self.inplanes, planes * block.expansion,\n",
    "                          kernel_size=1, stride=stride, bias=False),\n",
    "                nn.BatchNorm2d(planes * block.expansion),\n",
    "            )\n",
    "\n",
    "        layers = []\n",
    "        layers.append(block(self.inplanes, planes, stride, downsample))\n",
    "        self.inplanes = planes * block.expansion\n",
    "        for i in range(1, blocks):\n",
    "            layers.append(block(self.inplanes, planes))\n",
    "\n",
    "        return nn.Sequential(*layers)\n",
    "\n",
    "    def forward(self, x):\n",
    "        x = self.conv1(x)\n",
    "        x = self.bn1(x)\n",
    "        x = self.relu(x)\n",
    "        x = self.maxpool(x)\n",
    "\n",
    "        x = self.layer1(x)\n",
    "        x = self.layer2(x)\n",
    "        x = self.layer3(x)\n",
    "        x = self.layer4(x)\n",
    "        # because MNIST is already 1x1 here:\n",
    "        # disable avg pooling\n",
    "        #x = self.avgpool(x)\n",
    "        \n",
    "        x = x.view(x.size(0), -1)\n",
    "        logits = self.fc(x)\n",
    "        probas = F.softmax(logits, dim=1)\n",
    "        return logits, probas\n",
    "\n",
    "\n",
    "\n",
    "def resnet50(num_classes):\n",
    "    \"\"\"Constructs a ResNet-34 model.\"\"\"\n",
    "    model = ResNet(block=Bottleneck, \n",
    "                   layers=[3, 4, 6, 3],\n",
    "                   num_classes=num_classes,\n",
    "                   grayscale=True)\n",
    "    return model"
   ]
  },
  {
   "cell_type": "code",
   "execution_count": 6,
   "metadata": {},
   "outputs": [],
   "source": [
    "# start training\n",
    "NUM_EPOCHS = 6\n",
    "model = resnet50(num_classes=10)\n",
    "model = model.to(DEVICE)\n",
    "optimizer = torch.optim.Adam(model.parameters(), lr=0.0001)"
   ]
  },
  {
   "cell_type": "code",
   "execution_count": 7,
   "metadata": {},
   "outputs": [],
   "source": [
    "valid_loader = test_loader"
   ]
  },
  {
   "cell_type": "code",
   "execution_count": 8,
   "metadata": {},
   "outputs": [
    {
     "name": "stdout",
     "output_type": "stream",
     "text": [
      "Epoch: 001/006 | Batch 0000/0938 | Cost: 2.7708\n",
      "Epoch: 001/006 | Batch 0200/0938 | Cost: 1.0404\n",
      "Epoch: 001/006 | Batch 0400/0938 | Cost: 0.5662\n",
      "Epoch: 001/006 | Batch 0600/0938 | Cost: 0.3982\n",
      "Epoch: 001/006 | Batch 0800/0938 | Cost: 0.2951\n",
      "Epoch: 001/006 Train Acc.: 92.73% | Validation Acc.: 91.28%\n",
      "Time elapsed: 0.64 min\n",
      "Epoch: 002/006 | Batch 0000/0938 | Cost: 0.5619\n",
      "Epoch: 002/006 | Batch 0200/0938 | Cost: 0.2036\n",
      "Epoch: 002/006 | Batch 0400/0938 | Cost: 0.3003\n",
      "Epoch: 002/006 | Batch 0600/0938 | Cost: 0.2238\n",
      "Epoch: 002/006 | Batch 0800/0938 | Cost: 0.0555\n",
      "Epoch: 002/006 Train Acc.: 96.90% | Validation Acc.: 94.68%\n",
      "Time elapsed: 1.26 min\n",
      "Epoch: 003/006 | Batch 0000/0938 | Cost: 0.0418\n",
      "Epoch: 003/006 | Batch 0200/0938 | Cost: 0.0950\n",
      "Epoch: 003/006 | Batch 0400/0938 | Cost: 0.1464\n",
      "Epoch: 003/006 | Batch 0600/0938 | Cost: 0.2614\n",
      "Epoch: 003/006 | Batch 0800/0938 | Cost: 0.0320\n",
      "Epoch: 003/006 Train Acc.: 98.36% | Validation Acc.: 96.29%\n",
      "Time elapsed: 1.88 min\n",
      "Epoch: 004/006 | Batch 0000/0938 | Cost: 0.0796\n",
      "Epoch: 004/006 | Batch 0200/0938 | Cost: 0.3342\n",
      "Epoch: 004/006 | Batch 0400/0938 | Cost: 0.0553\n",
      "Epoch: 004/006 | Batch 0600/0938 | Cost: 0.0513\n",
      "Epoch: 004/006 | Batch 0800/0938 | Cost: 0.0205\n",
      "Epoch: 004/006 Train Acc.: 98.75% | Validation Acc.: 96.70%\n",
      "Time elapsed: 2.51 min\n",
      "Epoch: 005/006 | Batch 0000/0938 | Cost: 0.0112\n",
      "Epoch: 005/006 | Batch 0200/0938 | Cost: 0.1351\n",
      "Epoch: 005/006 | Batch 0400/0938 | Cost: 0.1176\n",
      "Epoch: 005/006 | Batch 0600/0938 | Cost: 0.0363\n",
      "Epoch: 005/006 | Batch 0800/0938 | Cost: 0.0508\n",
      "Epoch: 005/006 Train Acc.: 99.05% | Validation Acc.: 97.24%\n",
      "Time elapsed: 3.13 min\n",
      "Epoch: 006/006 | Batch 0000/0938 | Cost: 0.0163\n",
      "Epoch: 006/006 | Batch 0200/0938 | Cost: 0.0771\n",
      "Epoch: 006/006 | Batch 0400/0938 | Cost: 0.1578\n",
      "Epoch: 006/006 | Batch 0600/0938 | Cost: 0.0555\n",
      "Epoch: 006/006 | Batch 0800/0938 | Cost: 0.0055\n",
      "Epoch: 006/006 Train Acc.: 99.31% | Validation Acc.: 97.64%\n",
      "Time elapsed: 3.76 min\n",
      "Total Training Time: 3.76 min\n",
      "[92.7300033569336, 96.90499877929688, 98.36333465576172, 98.75, 99.04500579833984, 99.3116683959961]\n",
      "[91.27999877929688, 94.68000030517578, 96.29000091552734, 96.69999694824219, 97.23999786376953, 97.63999938964844]\n",
      "[0.0036081183024992544, 0.0015655212164080391, 0.0008421467356849462, 0.00064185265681978, 0.0004501662747934461, 0.00033951524647224385]\n",
      "[0.004151668021082878, 0.0026035684952978046, 0.0018641972275683656, 0.00171979640545469, 0.0014186684039712418, 0.0012303312773554354]\n"
     ]
    }
   ],
   "source": [
    "def compute_accuracy_and_loss(model, data_loader, device):\n",
    "    correct_pred, num_examples = 0, 0\n",
    "    cross_entropy = 0.\n",
    "    for i, (features, targets) in enumerate(data_loader):\n",
    "            \n",
    "        features = features.to(device)\n",
    "        targets = targets.to(device)\n",
    "\n",
    "        logits, probas = model(features)\n",
    "        cross_entropy += F.cross_entropy(logits, targets).item()\n",
    "        _, predicted_labels = torch.max(probas, 1)\n",
    "        num_examples += targets.size(0)\n",
    "        correct_pred += (predicted_labels == targets).sum()\n",
    "    return correct_pred.float()/num_examples * 100, cross_entropy/num_examples\n",
    "    \n",
    "\n",
    "start_time = time.time()\n",
    "train_acc_lst, valid_acc_lst = [], []\n",
    "train_loss_lst, valid_loss_lst = [], []\n",
    "\n",
    "for epoch in range(NUM_EPOCHS):\n",
    "    model.train()\n",
    "    for batch_idx, (features, targets) in enumerate(train_loader):\n",
    "    \n",
    "        ### PREPARE MINIBATCH\n",
    "        features = features.to(DEVICE)\n",
    "        targets = targets.to(DEVICE)\n",
    "            \n",
    "        ### FORWARD AND BACK PROP\n",
    "        logits, probas = model(features)\n",
    "        cost = F.cross_entropy(logits, targets)\n",
    "        optimizer.zero_grad()\n",
    "        \n",
    "        cost.backward()\n",
    "        \n",
    "        ### UPDATE MODEL PARAMETERS\n",
    "        optimizer.step()\n",
    "        \n",
    "        ### LOGGING\n",
    "        if not batch_idx % 200:\n",
    "            print (f'Epoch: {epoch+1:03d}/{NUM_EPOCHS:03d} | '\n",
    "                   f'Batch {batch_idx:04d}/{len(train_loader):04d} |' \n",
    "                   f' Cost: {cost:.4f}')\n",
    "\n",
    "    # no need to build the computation graph for backprop when computing accuracy\n",
    "    model.eval()\n",
    "    with torch.set_grad_enabled(False):\n",
    "        train_acc, train_loss = compute_accuracy_and_loss(model, train_loader, device=DEVICE)\n",
    "        valid_acc, valid_loss = compute_accuracy_and_loss(model, valid_loader, device=DEVICE)\n",
    "        train_acc_lst.append(train_acc.item())\n",
    "        valid_acc_lst.append(valid_acc.item())\n",
    "        train_loss_lst.append(train_loss)\n",
    "        valid_loss_lst.append(valid_loss)\n",
    "        print(f'Epoch: {epoch+1:03d}/{NUM_EPOCHS:03d} Train Acc.: {train_acc:.2f}%'\n",
    "              f' | Validation Acc.: {valid_acc:.2f}%')\n",
    "        \n",
    "    elapsed = (time.time() - start_time)/60\n",
    "    print(f'Time elapsed: {elapsed:.2f} min')\n",
    "  \n",
    "elapsed = (time.time() - start_time)/60\n",
    "print(f'Total Training Time: {elapsed:.2f} min')\n",
    "print(train_acc_lst)\n",
    "print(valid_acc_lst)\n",
    "print(train_loss_lst)\n",
    "print(valid_loss_lst)"
   ]
  },
  {
   "cell_type": "code",
   "execution_count": 9,
   "metadata": {},
   "outputs": [
    {
     "name": "stdout",
     "output_type": "stream",
     "text": [
      "Test accuracy: 97.64%\n"
     ]
    }
   ],
   "source": [
    "model.eval()\n",
    "with torch.set_grad_enabled(False): # save memory during inference\n",
    "    test_acc, test_loss = compute_accuracy_and_loss(model, test_loader, DEVICE)\n",
    "    print(f'Test accuracy: {test_acc:.2f}%')"
   ]
  },
  {
   "cell_type": "code",
   "execution_count": 28,
   "metadata": {},
   "outputs": [
    {
     "data": {
      "image/png": "[encoded data removed]",
      "text/plain": [
       "<Figure size 432x576 with 2 Axes>"
      ]
     },
     "metadata": {
      "needs_background": "light"
     },
     "output_type": "display_data"
    }
   ],
   "source": [
    "import matplotlib.pyplot as plt\n",
    "from PIL import Image\n",
    "epoch_list = range(1,NUM_EPOCHS+1)\n",
    "fig,(ax1,ax2) = plt.subplots(2,1,figsize=(6,8),layout='constrained')\n",
    "# plot figure 1\n",
    "# plt.subplot(1,2,1)\n",
    "ax1.plot(epoch_list,train_loss_lst,label=\"train_loss\")\n",
    "ax1.plot(epoch_list,valid_loss_lst,label=\"valid_loss\")\n",
    "ax1.set_xlabel(\"Epoch\")\n",
    "ax1.set_ylabel(\"Percentage\")\n",
    "ax1.set_title(\"Loss\")\n",
    "ax1.legend()\n",
    "# plot figure 2\n",
    "# plt.subplot(1,2,2)\n",
    "ax2.plot(epoch_list,train_acc_lst,label=\"train_acc\")\n",
    "ax2.plot(epoch_list,valid_acc_lst,label=\"valid_acc\")\n",
    "ax2.set_xlabel(\"Epoch\")\n",
    "ax2.set_ylabel(\"Percentage\")\n",
    "ax2.set_title(\"Accuracy\")\n",
    "ax2.legend()\n",
    "# display pictures\n",
    "# plt.show()\n",
    "fig.show()"
   ]
  },
  {
   "cell_type": "code",
   "execution_count": 11,
   "metadata": {},
   "outputs": [
    {
     "name": "stdout",
     "output_type": "stream",
     "text": [
      "tensor([1, 7, 0, 4, 6, 5, 5, 4], device='cuda:0')\n"
     ]
    },
    {
     "data": {
      "image/png": "[encoded data removed]",
      "text/plain": [
       "<Figure size 432x288 with 6 Axes>"
      ]
     },
     "metadata": {
      "needs_background": "light"
     },
     "output_type": "display_data"
    }
   ],
   "source": [
    "for features, targets in train_loader:\n",
    "    break\n",
    "# 预测环节\n",
    "_, predictions = model.forward(features[:8].to(DEVICE))\n",
    "predictions = torch.argmax(predictions, dim=1)\n",
    "print(predictions)\n",
    "\n",
    "features = features[:7]\n",
    "fig = plt.figure()\n",
    "# print(features[i].size())\n",
    "for i in range(6):\n",
    "    plt.subplot(2,3,i+1)\n",
    "    plt.tight_layout()\n",
    "    tmp = features[i]\n",
    "    plt.imshow(np.transpose(tmp, (1, 2, 0)))\n",
    "    plt.title(\"Actual value: {}\".format(targets[i])+'\\n'+\"Prediction value: {}\".format(predictions[i]),size = 10)\n",
    "    \n",
    "#     plt.title(\"Prediction value: {}\".format(tname[targets[i]]))\n",
    "plt.show()"
   ]
  },
  {
   "cell_type": "code",
   "execution_count": null,
   "metadata": {},
   "outputs": [],
   "source": []
  }
 ],
 "metadata": {
  "kernelspec": {
   "display_name": "Python 3.9.7 ('base')",
   "language": "python",
   "name": "python3"
  },
  "language_info": {
   "codemirror_mode": {
    "name": "ipython",
    "version": 3
   },
   "file_extension": ".py",
   "mimetype": "text/x-python",
   "name": "python",
   "nbconvert_exporter": "python",
   "pygments_lexer": "ipython3",
   "version": "3.9.7"
  },
  "orig_nbformat": 4,
  "vscode": {
   "interpreter": {
    "hash": "e7be21be0778d258b2a85d448d175280931934e7c4b8868294cf4ba82ea68406"
   }
  }
 },
 "nbformat": 4,
 "nbformat_minor": 2
}
